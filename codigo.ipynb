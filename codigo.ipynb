{
 "cells": [
  {
   "attachments": {},
   "cell_type": "markdown",
   "metadata": {},
   "source": [
    "# Clase 1 Temas:\n",
    "1. Operadores Logicos (AND, OR , NOT)\n",
    "2. IF\n",
    "3. Asignacion de valores \n",
    "4. Print (Ver resultados)"
   ]
  },
  {
   "cell_type": "code",
   "execution_count": 27,
   "metadata": {},
   "outputs": [],
   "source": [
    "X = True\n"
   ]
  },
  {
   "cell_type": "code",
   "execution_count": 28,
   "metadata": {},
   "outputs": [],
   "source": [
    "Y = False"
   ]
  },
  {
   "cell_type": "code",
   "execution_count": 29,
   "metadata": {},
   "outputs": [],
   "source": [
    "z = X or Y"
   ]
  },
  {
   "cell_type": "code",
   "execution_count": 30,
   "metadata": {},
   "outputs": [
    {
     "data": {
      "text/plain": [
       "True"
      ]
     },
     "execution_count": 30,
     "metadata": {},
     "output_type": "execute_result"
    }
   ],
   "source": [
    "z"
   ]
  },
  {
   "cell_type": "code",
   "execution_count": 33,
   "metadata": {},
   "outputs": [
    {
     "name": "stdout",
     "output_type": "stream",
     "text": [
      "Julie y Juan no se aman\n"
     ]
    }
   ],
   "source": [
    "julie_es_mujer = False\n",
    "juan_ama_mujer = False\n",
    "if julie_es_mujer or juan_ama_mujer:\n",
    "    print(\"Julie y Juan se aman\")\n",
    "else:\n",
    "    print(\"Julie y Juan no se aman\")"
   ]
  },
  {
   "cell_type": "code",
   "execution_count": 41,
   "metadata": {},
   "outputs": [
    {
     "name": "stdout",
     "output_type": "stream",
     "text": [
      "No le doy plata\n"
     ]
    }
   ],
   "source": [
    "aumento = True\n",
    "piano = False\n",
    "\n",
    "'''\n",
    "aumento = True\n",
    "aumento = False\n",
    "\n",
    "'''\n",
    "\n",
    "result = not aumento or piano\n",
    "# not : negacion\n",
    "# or: or \n",
    "# and : and\n",
    "if  result : \n",
    "    print(\"le doy plata\")\n",
    "else:\n",
    "    print(\"No le doy plata\")"
   ]
  },
  {
   "attachments": {},
   "cell_type": "markdown",
   "metadata": {},
   "source": [
    "# Feedback de Clase 1\n",
    "## Clase mejorar 8:\n",
    "\n",
    "1. Explicar en pizarra no tablet\n",
    "2. Que Julie tome apuntes y no que Juan haga el apunte (Julie procesa cuando esta haciendo)\n",
    "\n",
    "## Clase Profe 7:\n",
    "1. Tener clara la estructura de lo que va a explicar (Sabe mucho y no mezclar)\n",
    "2. Tener ejemplos claros que pueda explicar (Con cosas mas complicadas se va a perder a la alumna) \n",
    "3. La letra de Juan es fea, y no lo entiende la alumna (Son apuntes para Julie no para Juan)\n",
    "\n",
    "## Clase Alumna 5:\n",
    "1. Tratar de solucionar la fuga del cerebro de la alumna\n",
    "2. Tener un cuaderno para apuntar\n",
    "3. Acomodarse bien\n",
    "4. No ver al profesor como novio\n",
    "## Experiencia :\n",
    "1. Es muy abrumador y AHHHHHH\n"
   ]
  },
  {
   "cell_type": "code",
   "execution_count": null,
   "metadata": {},
   "outputs": [],
   "source": []
  },
  {
   "cell_type": "code",
   "execution_count": null,
   "metadata": {},
   "outputs": [],
   "source": []
  }
 ],
 "metadata": {
  "kernelspec": {
   "display_name": "Python 3",
   "language": "python",
   "name": "python3"
  },
  "language_info": {
   "codemirror_mode": {
    "name": "ipython",
    "version": 3
   },
   "file_extension": ".py",
   "mimetype": "text/x-python",
   "name": "python",
   "nbconvert_exporter": "python",
   "pygments_lexer": "ipython3",
   "version": "3.10.9 (tags/v3.10.9:1dd9be6, Dec  6 2022, 20:01:21) [MSC v.1934 64 bit (AMD64)]"
  },
  "orig_nbformat": 4,
  "vscode": {
   "interpreter": {
    "hash": "f983f5b548cf88538231b8357f9ff7a6b6310241824d993833c66e571f26d3d7"
   }
  }
 },
 "nbformat": 4,
 "nbformat_minor": 2
}
